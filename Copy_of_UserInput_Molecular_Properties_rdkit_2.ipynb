{
  "nbformat": 4,
  "nbformat_minor": 0,
  "metadata": {
    "colab": {
      "provenance": [],
      "authorship_tag": "ABX9TyOlur+KoKnpsxc0bCMKOccD",
      "include_colab_link": true
    },
    "kernelspec": {
      "name": "python3",
      "display_name": "Python 3"
    },
    "language_info": {
      "name": "python"
    }
  },
  "cells": [
    {
      "cell_type": "markdown",
      "metadata": {
        "id": "view-in-github",
        "colab_type": "text"
      },
      "source": [
        "<a href=\"https://colab.research.google.com/github/xraydog999/conda-xray/blob/main/Copy_of_UserInput_Molecular_Properties_rdkit_2.ipynb\" target=\"_parent\"><img src=\"https://colab.research.google.com/assets/colab-badge.svg\" alt=\"Open In Colab\"/></a>"
      ]
    },
    {
      "cell_type": "markdown",
      "source": [
        "Molecular Descriptors from rdkit\n",
        "\n",
        "In RDKit, \"Crippen\" refers to the Wildman-Crippen model, a widely used method for estimating a molecule's lipophilicity (logP) and molar refractivity (MR). This atom-contribution method assigns specific numerical values to different atom types and patterns within a molecule to calculate these physicochemical properties, which are crucial for predicting drug-like properties and behavior.\n",
        "\n",
        "In RDKit, rdkit.Chem.MolSurf is a module that contains functions for calculating approximate molecular surface area (VSA) descriptors, similar to those found in the MOE software. These functions compute and expose various VSA properties, such as the Labute ASA and PEOE_VSA descriptors, which can be used to describe molecular properties related to surface area and electrostatics.\n",
        "\n",
        "In RDKit, \"Lipinski\" refers to the Lipinski's Rule of Five (Ro5), a set of guidelines used to assess if a chemical compound is likely to be orally active and have good bioavailability. The RDKit library provides the rdkit.Chem.Lipinski module and related functions to calculate the specific molecular properties (such as molecular weight, LogP, hydrogen bond donors, and acceptors) required by Lipinski's rules.\n",
        "\n",
        "rdMolDescriptors is a module within RDKit's Chem library that provides functions for calculating various molecular descriptors. Molecular descriptors are numerical values that represent the chemical and physical properties of a molecule, and they are widely used in cheminformatics, drug discovery, and materials science for tasks such as quantitative structure-activity relationships (QSAR), virtual screening, and similarity analysis.\n",
        "Key aspects of rdMolDescriptors:\n",
        "Calculation of diverse descriptors:\n",
        "It includes functions to calculate a wide range of descriptors, such as:\n",
        "Constitutional descriptors: e.g., molecular weight, number of atoms, number of bonds.\n",
        "Topological descriptors: e.g., topological polar surface area (TPSA), Balaban J index.\n",
        "Pharmacophore descriptors: e.g., number of hydrogen bond donors/acceptors.\n",
        "Spatial descriptors: e.g., molecular volume, surface area (like LabuteASA).\n",
        "LogP and MR descriptors: e.g., CrippenLogP, CrippenMR."
      ],
      "metadata": {
        "id": "P8sO3-agCfPs"
      }
    },
    {
      "cell_type": "markdown",
      "source": [
        "Use terminal to enter smiles string. Program has \"secret string\""
      ],
      "metadata": {
        "id": "HhiadtEUHjB9"
      }
    },
    {
      "cell_type": "code",
      "execution_count": 8,
      "metadata": {
        "colab": {
          "base_uri": "https://localhost:8080/",
          "height": 724
        },
        "id": "WQZV4_MR-wf2",
        "outputId": "90c7a4d6-31d3-416b-a8d9-d93f7e269861"
      },
      "outputs": [
        {
          "output_type": "stream",
          "name": "stdout",
          "text": [
            "Requirement already satisfied: rdkit in /usr/local/lib/python3.12/dist-packages (2025.3.5)\n",
            "Requirement already satisfied: numpy in /usr/local/lib/python3.12/dist-packages (from rdkit) (2.0.2)\n",
            "Requirement already satisfied: Pillow in /usr/local/lib/python3.12/dist-packages (from rdkit) (11.3.0)\n",
            "Enter SMILES string: CCCN\n",
            "SMILES: CCCN\n",
            "Structure: \n",
            "     RDKit          2D\n",
            "\n",
            "  4  3  0  0  0  0  0  0  0  0999 V2000\n",
            "    0.0000    0.0000    0.0000 C   0  0  0  0  0  0  0  0  0  0  0  0\n",
            "    1.2990    0.7500    0.0000 C   0  0  0  0  0  0  0  0  0  0  0  0\n",
            "    2.5981   -0.0000    0.0000 C   0  0  0  0  0  0  0  0  0  0  0  0\n",
            "    3.8971    0.7500    0.0000 N   0  0  0  0  0  0  0  0  0  0  0  0\n",
            "  1  2  1  0\n",
            "  2  3  1  0\n",
            "  3  4  1  0\n",
            "M  END\n",
            "\n",
            "Atom Count: 4\n",
            "Chemical Formula: C3H9N\n",
            "Molecular Weight: 59.11199999999999\n",
            "Heavy Atom Count: 4\n",
            "Number of Bonds: 3\n",
            "LogP: 0.3551000000000001\n",
            "Number of Aromatic Rings: 0\n",
            "Number of Rings: 0\n",
            "Molar Refractivity: 19.345400000000005\n",
            "H-Bond Donors: 1\n",
            "H-Bond Acceptors: 1\n",
            "Rotatable Bonds: 1\n",
            "Formal Charge: 0\n"
          ]
        },
        {
          "output_type": "display_data",
          "data": {
            "text/plain": [
              "<rdkit.Chem.rdchem.Mol at 0x790ca55e3ed0>"
            ],
            "image/png": "[encoded data removed]"
          },
          "metadata": {}
        }
      ],
      "source": [
        "! pip install rdkit\n",
        "# !conda install -c conda-forge rdkit -y\n",
        "from rdkit import Chem\n",
        "from rdkit.Chem import Descriptors\n",
        "from rdkit.Chem import Crippen\n",
        "from rdkit.Chem import MolSurf\n",
        "from rdkit.Chem import Lipinski\n",
        "from rdkit.Chem import rdMolDescriptors\n",
        "from rdkit.Chem.Draw import IPythonConsole\n",
        "from rdkit import Chem\n",
        "\n",
        "# from google.colab import userdata # Import userdata for user input\n",
        "\n",
        "def calculate_molecular_descriptors(smiles_string):\n",
        "    \"\"\"\n",
        "    Calculates various molecular descriptors from a SMILES string.\n",
        "\n",
        "    Args:\n",
        "        smiles_string (str): The SMILES string of the molecule.\n",
        "\n",
        "    Returns:\n",
        "        dict: A dictionary containing the calculated molecular descriptors,\n",
        "              or None if the SMILES string is invalid.\n",
        "    \"\"\"\n",
        "    mol = Chem.MolFromSmiles(smiles_string)\n",
        "\n",
        "    if mol is None:\n",
        "        return None\n",
        "\n",
        "    descriptors = {}\n",
        "    descriptors['SMILES'] = smiles_string\n",
        "    descriptors['Structure'] = Chem.MolToMolBlock(mol)  # Get the mol block representation\n",
        "    descriptors['Atom Count'] = mol.GetNumAtoms()\n",
        "    descriptors['Chemical Formula'] = rdMolDescriptors.CalcMolFormula(mol)\n",
        "    descriptors['Molecular Weight'] = Descriptors.MolWt(mol)\n",
        "    descriptors['Heavy Atom Count'] = mol.GetNumHeavyAtoms()\n",
        "    descriptors['Number of Bonds'] = mol.GetNumBonds()\n",
        "    descriptors['LogP'] = Crippen.MolLogP(mol)\n",
        "    descriptors['Number of Aromatic Rings'] = Descriptors.NumAromaticRings(mol)\n",
        "    descriptors['Number of Rings'] = mol.GetRingInfo().NumRings()\n",
        "    # pKa calculation is more complex and requires specialized tools,\n",
        "    # so it's not included in this basic example.\n",
        "    # descriptors['pKa'] = ...\n",
        "    descriptors['Molar Refractivity'] = Crippen.MolMR(mol)\n",
        "    # descriptors['Polar Surface Area'] = TPSA(mol)\n",
        "    descriptors['H-Bond Donors'] = Lipinski.NumHDonors(mol)\n",
        "    descriptors['H-Bond Acceptors'] = Lipinski.NumHAcceptors(mol)\n",
        "    descriptors['Rotatable Bonds'] = Descriptors.NumRotatableBonds(mol)\n",
        "    descriptors['Formal Charge'] = Chem.GetFormalCharge(mol)\n",
        "\n",
        "    return descriptors\n",
        "\n",
        "def draw_molecule(smiles_string):\n",
        "    \"\"\"\n",
        "    Draws the molecular structure from a SMILES string.\n",
        "\n",
        "    Args:\n",
        "        smiles_string (str): The SMILES string of the molecule.\n",
        "\n",
        "    Returns:\n",
        "        img: An image object of the molecule, or None if the SMILES string is invalid.\n",
        "    \"\"\"\n",
        "    mol = Chem.MolFromSmiles(smiles_string)\n",
        "    if mol is None:\n",
        "        return None\n",
        "    return mol\n",
        "\n",
        "# Get SMILES input from the user\n",
        "smiles = input(\"Enter SMILES string: \")\n",
        "\n",
        "mol_descriptors = calculate_molecular_descriptors(smiles)\n",
        "molecule_drawing = draw_molecule(smiles)\n",
        "\n",
        "if mol_descriptors:\n",
        "    for key, value in mol_descriptors.items():\n",
        "        print(f\"{key}: {value}\")\n",
        "else:\n",
        "    print(f\"Invalid SMILES string: {smiles}\")\n",
        "\n",
        "if molecule_drawing:\n",
        "    display(molecule_drawing)\n",
        "else:\n",
        "    print(f\"Could not draw molecule for SMILES string: {smiles}\")"
      ]
    }
  ]
}